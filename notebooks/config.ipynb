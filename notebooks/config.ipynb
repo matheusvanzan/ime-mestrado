{
 "cells": [
  {
   "cell_type": "markdown",
   "metadata": {},
   "source": [
    "# Check config file"
   ]
  },
  {
   "cell_type": "code",
   "execution_count": 6,
   "metadata": {},
   "outputs": [
    {
     "name": "stdout",
     "output_type": "stream",
     "text": [
      "{'paths': [{'data': 'D:/IME/gpt-malware/data',\n",
      "            'gpt': 'D:/IME/gpt-malware/',\n",
      "            'project': 'D:/IME/gpt-malware/project',\n",
      "            'windows': None},\n",
      "           {'data': '/{{ gpt }}/utilizador/codes/data',\n",
      "            'gpt': '/home/utilizador/codes/',\n",
      "            'linux': None,\n",
      "            'project': '/home/utilizador/codes/project'}]}\n"
     ]
    }
   ],
   "source": [
    "import yaml\n",
    "from pprint import pprint\n",
    "\n",
    "path = 'C:\\\\Users\\\\vanza\\\\Documents\\\\Codes\\\\ime\\\\am-malware\\\\project\\\\config.yaml'\n",
    "\n",
    "with open(path, 'r') as f:\n",
    "    try:\n",
    "        pprint(yaml.safe_load(f))\n",
    "    except yaml.YAMLError as exc:\n",
    "        print(exc)"
   ]
  }
 ],
 "metadata": {
  "kernelspec": {
   "display_name": "env",
   "language": "python",
   "name": "python3"
  },
  "language_info": {
   "codemirror_mode": {
    "name": "ipython",
    "version": 3
   },
   "file_extension": ".py",
   "mimetype": "text/x-python",
   "name": "python",
   "nbconvert_exporter": "python",
   "pygments_lexer": "ipython3",
   "version": "3.11.1"
  },
  "orig_nbformat": 4
 },
 "nbformat": 4,
 "nbformat_minor": 2
}
