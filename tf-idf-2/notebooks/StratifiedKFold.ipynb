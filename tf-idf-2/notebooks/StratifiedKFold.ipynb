{
 "cells": [
  {
   "cell_type": "code",
   "execution_count": 12,
   "metadata": {
    "executionInfo": {
     "elapsed": 1049,
     "status": "ok",
     "timestamp": 1654651098495,
     "user": {
      "displayName": "Matheus Vanzan Pimentel de Oliveira",
      "userId": "05248490625695273722"
     },
     "user_tz": 180
    },
    "id": "D1MAd1WWvX4n"
   },
   "outputs": [],
   "source": [
    "import numpy as np\n",
    "import pandas as pd\n",
    "import seaborn as sns\n",
    "import collections, numpy\n",
    "from matplotlib import pyplot as plt\n",
    "\n",
    "from sklearn.model_selection import train_test_split\n",
    "from sklearn.linear_model import LinearRegression\n",
    "from sklearn.metrics import mean_squared_error, r2_score\n",
    "from sklearn.model_selection import StratifiedKFold\n",
    "\n",
    "GITHUB_ROOT = 'https://raw.githubusercontent.com/matheusvanzan/ime-ia-malware/e92418107cd5ea7ddddf81cb9f19feaef5be50e9/project/data/train/'"
   ]
  },
  {
   "cell_type": "code",
   "execution_count": 13,
   "metadata": {
    "colab": {
     "base_uri": "https://localhost:8080/",
     "height": 206
    },
    "executionInfo": {
     "elapsed": 12,
     "status": "ok",
     "timestamp": 1654651098792,
     "user": {
      "displayName": "Matheus Vanzan Pimentel de Oliveira",
      "userId": "05248490625695273722"
     },
     "user_tz": 180
    },
    "id": "L7FdYoVNvmf8",
    "outputId": "0fdecf90-96f0-4421-aad6-c52920732119"
   },
   "outputs": [
    {
     "data": {
      "text/html": [
       "\n",
       "  <div id=\"df-fbe05b99-2e91-4ffb-891e-4e0da8db347c\">\n",
       "    <div class=\"colab-df-container\">\n",
       "      <div>\n",
       "<style scoped>\n",
       "    .dataframe tbody tr th:only-of-type {\n",
       "        vertical-align: middle;\n",
       "    }\n",
       "\n",
       "    .dataframe tbody tr th {\n",
       "        vertical-align: top;\n",
       "    }\n",
       "\n",
       "    .dataframe thead th {\n",
       "        text-align: right;\n",
       "    }\n",
       "</style>\n",
       "<table border=\"1\" class=\"dataframe\">\n",
       "  <thead>\n",
       "    <tr style=\"text-align: right;\">\n",
       "      <th></th>\n",
       "      <th>Id</th>\n",
       "      <th>Class</th>\n",
       "    </tr>\n",
       "  </thead>\n",
       "  <tbody>\n",
       "    <tr>\n",
       "      <th>0</th>\n",
       "      <td>01kcPWA9K2BOxQeS5Rju</td>\n",
       "      <td>1</td>\n",
       "    </tr>\n",
       "    <tr>\n",
       "      <th>1</th>\n",
       "      <td>04EjIdbPV5e1XroFOpiN</td>\n",
       "      <td>1</td>\n",
       "    </tr>\n",
       "    <tr>\n",
       "      <th>2</th>\n",
       "      <td>05EeG39MTRrI6VY21DPd</td>\n",
       "      <td>1</td>\n",
       "    </tr>\n",
       "    <tr>\n",
       "      <th>3</th>\n",
       "      <td>05rJTUWYAKNegBk2wE8X</td>\n",
       "      <td>1</td>\n",
       "    </tr>\n",
       "    <tr>\n",
       "      <th>4</th>\n",
       "      <td>0AnoOZDNbPXIr2MRBSCJ</td>\n",
       "      <td>1</td>\n",
       "    </tr>\n",
       "  </tbody>\n",
       "</table>\n",
       "</div>\n",
       "      <button class=\"colab-df-convert\" onclick=\"convertToInteractive('df-fbe05b99-2e91-4ffb-891e-4e0da8db347c')\"\n",
       "              title=\"Convert this dataframe to an interactive table.\"\n",
       "              style=\"display:none;\">\n",
       "        \n",
       "  <svg xmlns=\"http://www.w3.org/2000/svg\" height=\"24px\"viewBox=\"0 0 24 24\"\n",
       "       width=\"24px\">\n",
       "    <path d=\"M0 0h24v24H0V0z\" fill=\"none\"/>\n",
       "    <path d=\"M18.56 5.44l.94 2.06.94-2.06 2.06-.94-2.06-.94-.94-2.06-.94 2.06-2.06.94zm-11 1L8.5 8.5l.94-2.06 2.06-.94-2.06-.94L8.5 2.5l-.94 2.06-2.06.94zm10 10l.94 2.06.94-2.06 2.06-.94-2.06-.94-.94-2.06-.94 2.06-2.06.94z\"/><path d=\"M17.41 7.96l-1.37-1.37c-.4-.4-.92-.59-1.43-.59-.52 0-1.04.2-1.43.59L10.3 9.45l-7.72 7.72c-.78.78-.78 2.05 0 2.83L4 21.41c.39.39.9.59 1.41.59.51 0 1.02-.2 1.41-.59l7.78-7.78 2.81-2.81c.8-.78.8-2.07 0-2.86zM5.41 20L4 18.59l7.72-7.72 1.47 1.35L5.41 20z\"/>\n",
       "  </svg>\n",
       "      </button>\n",
       "      \n",
       "  <style>\n",
       "    .colab-df-container {\n",
       "      display:flex;\n",
       "      flex-wrap:wrap;\n",
       "      gap: 12px;\n",
       "    }\n",
       "\n",
       "    .colab-df-convert {\n",
       "      background-color: #E8F0FE;\n",
       "      border: none;\n",
       "      border-radius: 50%;\n",
       "      cursor: pointer;\n",
       "      display: none;\n",
       "      fill: #1967D2;\n",
       "      height: 32px;\n",
       "      padding: 0 0 0 0;\n",
       "      width: 32px;\n",
       "    }\n",
       "\n",
       "    .colab-df-convert:hover {\n",
       "      background-color: #E2EBFA;\n",
       "      box-shadow: 0px 1px 2px rgba(60, 64, 67, 0.3), 0px 1px 3px 1px rgba(60, 64, 67, 0.15);\n",
       "      fill: #174EA6;\n",
       "    }\n",
       "\n",
       "    [theme=dark] .colab-df-convert {\n",
       "      background-color: #3B4455;\n",
       "      fill: #D2E3FC;\n",
       "    }\n",
       "\n",
       "    [theme=dark] .colab-df-convert:hover {\n",
       "      background-color: #434B5C;\n",
       "      box-shadow: 0px 1px 3px 1px rgba(0, 0, 0, 0.15);\n",
       "      filter: drop-shadow(0px 1px 2px rgba(0, 0, 0, 0.3));\n",
       "      fill: #FFFFFF;\n",
       "    }\n",
       "  </style>\n",
       "\n",
       "      <script>\n",
       "        const buttonEl =\n",
       "          document.querySelector('#df-fbe05b99-2e91-4ffb-891e-4e0da8db347c button.colab-df-convert');\n",
       "        buttonEl.style.display =\n",
       "          google.colab.kernel.accessAllowed ? 'block' : 'none';\n",
       "\n",
       "        async function convertToInteractive(key) {\n",
       "          const element = document.querySelector('#df-fbe05b99-2e91-4ffb-891e-4e0da8db347c');\n",
       "          const dataTable =\n",
       "            await google.colab.kernel.invokeFunction('convertToInteractive',\n",
       "                                                     [key], {});\n",
       "          if (!dataTable) return;\n",
       "\n",
       "          const docLinkHtml = 'Like what you see? Visit the ' +\n",
       "            '<a target=\"_blank\" href=https://colab.research.google.com/notebooks/data_table.ipynb>data table notebook</a>'\n",
       "            + ' to learn more about interactive tables.';\n",
       "          element.innerHTML = '';\n",
       "          dataTable['output_type'] = 'display_data';\n",
       "          await google.colab.output.renderOutput(dataTable, element);\n",
       "          const docLink = document.createElement('div');\n",
       "          docLink.innerHTML = docLinkHtml;\n",
       "          element.appendChild(docLink);\n",
       "        }\n",
       "      </script>\n",
       "    </div>\n",
       "  </div>\n",
       "  "
      ],
      "text/plain": [
       "                     Id  Class\n",
       "0  01kcPWA9K2BOxQeS5Rju      1\n",
       "1  04EjIdbPV5e1XroFOpiN      1\n",
       "2  05EeG39MTRrI6VY21DPd      1\n",
       "3  05rJTUWYAKNegBk2wE8X      1\n",
       "4  0AnoOZDNbPXIr2MRBSCJ      1"
      ]
     },
     "execution_count": 13,
     "metadata": {},
     "output_type": "execute_result"
    }
   ],
   "source": [
    "df = pd.read_csv(GITHUB_ROOT + 'trainLabels.csv')\n",
    "df.head()"
   ]
  },
  {
   "cell_type": "code",
   "execution_count": 14,
   "metadata": {
    "colab": {
     "base_uri": "https://localhost:8080/"
    },
    "executionInfo": {
     "elapsed": 8,
     "status": "ok",
     "timestamp": 1654651098792,
     "user": {
      "displayName": "Matheus Vanzan Pimentel de Oliveira",
      "userId": "05248490625695273722"
     },
     "user_tz": 180
    },
    "id": "8BF0b1N42IJG",
    "outputId": "301fcaa1-bf0b-48cd-cb64-add37e86cbf3"
   },
   "outputs": [
    {
     "data": {
      "text/plain": [
       "3    2942\n",
       "2    2478\n",
       "1    1541\n",
       "8    1228\n",
       "9    1013\n",
       "6     751\n",
       "4     475\n",
       "7     398\n",
       "5      42\n",
       "Name: Class, dtype: int64"
      ]
     },
     "execution_count": 14,
     "metadata": {},
     "output_type": "execute_result"
    }
   ],
   "source": [
    "df.Class.value_counts()"
   ]
  },
  {
   "cell_type": "code",
   "execution_count": 15,
   "metadata": {
    "colab": {
     "base_uri": "https://localhost:8080/"
    },
    "executionInfo": {
     "elapsed": 6,
     "status": "ok",
     "timestamp": 1654651098792,
     "user": {
      "displayName": "Matheus Vanzan Pimentel de Oliveira",
      "userId": "05248490625695273722"
     },
     "user_tz": 180
    },
    "id": "w-U6rtZm3oJ1",
    "outputId": "59d311a6-9975-40f7-d328-309d652cd62e"
   },
   "outputs": [
    {
     "data": {
      "text/plain": [
       "(array([['01kcPWA9K2BOxQeS5Rju'],\n",
       "        ['04EjIdbPV5e1XroFOpiN'],\n",
       "        ['05EeG39MTRrI6VY21DPd'],\n",
       "        ...,\n",
       "        ['kG29BLiFYPgWtpb350sO'],\n",
       "        ['kGITL4OJxYMWEQ1bKBiP'],\n",
       "        ['KGorN9J6XAC4bOEkmyup']], dtype=object),\n",
       " array([1, 1, 1, ..., 9, 9, 9]))"
      ]
     },
     "execution_count": 15,
     "metadata": {},
     "output_type": "execute_result"
    }
   ],
   "source": [
    "X = np.array(df['Id']).reshape(-1, 1) # matriz coluna\n",
    "y = np.array(df['Class'])\n",
    "\n",
    "X, y"
   ]
  },
  {
   "cell_type": "code",
   "execution_count": 16,
   "metadata": {
    "colab": {
     "base_uri": "https://localhost:8080/"
    },
    "executionInfo": {
     "elapsed": 4,
     "status": "ok",
     "timestamp": 1654651099623,
     "user": {
      "displayName": "Matheus Vanzan Pimentel de Oliveira",
      "userId": "05248490625695273722"
     },
     "user_tz": 180
    },
    "id": "O1Mq6V384w0i",
    "outputId": "5be30efc-ef2e-4e3d-ffa0-1900fe9636c9"
   },
   "outputs": [
    {
     "name": "stdout",
     "output_type": "stream",
     "text": [
      "0 ---\n",
      "     TRAIN: [    0     1     2 ... 10864 10865 10867] TEST: [    3     5    11 ... 10857 10863 10866]\n",
      "     X_train (5434, 1) X_test (5434, 1)\n",
      "     y_train (5434,) y_test (5434,)\n",
      "     y_train Counter({3: 1471, 2: 1239, 1: 770, 8: 614, 9: 507, 6: 375, 4: 238, 7: 199, 5: 21})\n",
      "     y_test Counter({3: 1471, 2: 1239, 1: 771, 8: 614, 9: 506, 6: 376, 4: 237, 7: 199, 5: 21})\n",
      "1 ---\n",
      "     TRAIN: [    3     5    11 ... 10857 10863 10866] TEST: [    0     1     2 ... 10864 10865 10867]\n",
      "     X_train (5434, 1) X_test (5434, 1)\n",
      "     y_train (5434,) y_test (5434,)\n",
      "     y_train Counter({3: 1471, 2: 1239, 1: 771, 8: 614, 9: 506, 6: 376, 4: 237, 7: 199, 5: 21})\n",
      "     y_test Counter({3: 1471, 2: 1239, 1: 770, 8: 614, 9: 507, 6: 375, 4: 238, 7: 199, 5: 21})\n"
     ]
    }
   ],
   "source": [
    "skf = StratifiedKFold(\n",
    "    n_splits = 2,\n",
    "    shuffle = True,\n",
    "    random_state = 42\n",
    ")\n",
    "\n",
    "for i, (train_index, test_index) in enumerate(skf.split(X, y)):\n",
    "    print(i, '---')\n",
    "    print(\"     TRAIN:\", train_index, \"TEST:\", test_index)\n",
    "    X_train, X_test = X[train_index], X[test_index]\n",
    "    y_train, y_test = y[train_index], y[test_index]\n",
    "\n",
    "    print('     X_train', X_train.shape, 'X_test', X_test.shape)\n",
    "    print('     y_train', y_train.shape, 'y_test', y_test.shape)\n",
    "\n",
    "    print('     y_train', collections.Counter(y_train))\n",
    "    print('     y_test', collections.Counter(y_test))"
   ]
  }
 ],
 "metadata": {
  "colab": {
   "authorship_tag": "ABX9TyOFn79Q4jjWnHDiv+nqrsKK",
   "collapsed_sections": [],
   "name": "StratifiedKFold.ipynb",
   "provenance": []
  },
  "kernelspec": {
   "display_name": "Python 3",
   "language": "python",
   "name": "python3"
  },
  "language_info": {
   "codemirror_mode": {
    "name": "ipython",
    "version": 3
   },
   "file_extension": ".py",
   "mimetype": "text/x-python",
   "name": "python",
   "nbconvert_exporter": "python",
   "pygments_lexer": "ipython3",
   "version": "3.8.8"
  }
 },
 "nbformat": 4,
 "nbformat_minor": 4
}
