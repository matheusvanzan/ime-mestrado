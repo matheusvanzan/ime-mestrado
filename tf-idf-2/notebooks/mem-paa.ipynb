{
 "cells": [
  {
   "cell_type": "code",
   "execution_count": 1,
   "id": "5200ae4c-97ed-45cb-b38a-eb675f6f1826",
   "metadata": {},
   "outputs": [],
   "source": [
    "import pandas as pd\n",
    "from matplotlib import pyplot as plt\n",
    "\n",
    "path_csv = '/home/jovyan/data'\n",
    "path_img = '/home/jovyan/code/img'\n",
    "\n",
    "def plot_df(values, path_img, title, xlabel, ylabel):\n",
    "    for value in values:\n",
    "        path_csv, label, color, column = value\n",
    "        df = pd.read_csv(path_csv, index_col = 0)\n",
    "        \n",
    "        print(df.shape)\n",
    "        \n",
    "        df = df[df[column] > 0]\n",
    "        y = df[column].values\n",
    "        \n",
    "        # df=(df-df.min())/(df.max()-df.min()) # normalize\n",
    "        \n",
    "        plt.plot(df.index, y, label=label, color=color)\n",
    "        \n",
    "    plt.xlabel(xlabel)\n",
    "    plt.ylabel(ylabel)\n",
    "    plt.title(title)\n",
    "    plt.legend(loc='upper left')\n",
    "    plt.gca()\n",
    "    plt.savefig(path_img, dpi=300, facecolor=(1.0, 1.0, 1.0, 1.0))\n",
    "    "
   ]
  },
  {
   "cell_type": "code",
   "execution_count": 2,
   "id": "1182ea59-4fef-4f7b-99da-28ac25a7446c",
   "metadata": {},
   "outputs": [
    {
     "name": "stdout",
     "output_type": "stream",
     "text": [
      "(31, 7)\n",
      "(31, 7)\n"
     ]
    },
    {
     "data": {
      "image/png": "[encoded data removed]",
      "text/plain": [
       "<Figure size 432x288 with 1 Axes>"
      ]
     },
     "metadata": {
      "needs_background": "light"
     },
     "output_type": "display_data"
    }
   ],
   "source": [
    "# PAA\n",
    "values = [\n",
    "    (f'{path_csv}/paa.csv', 'mem_max', 'b', 'mem_max'),\n",
    "    (f'{path_csv}/paa.csv', 'layer_dim', 'r', 'layer_dim'),\n",
    "]\n",
    "\n",
    "plot_df(\n",
    "    values,\n",
    "    path_img=f'{path_img}/paa.png',\n",
    "    title='PAA',\n",
    "    xlabel='Experimento',\n",
    "    ylabel='Memória RAM (GB)'\n",
    ")"
   ]
  },
  {
   "cell_type": "code",
   "execution_count": 8,
   "id": "b306fa74-373a-4091-a727-7552fafc1ff0",
   "metadata": {},
   "outputs": [
    {
     "data": {
      "text/plain": [
       "False"
      ]
     },
     "execution_count": 8,
     "metadata": {},
     "output_type": "execute_result"
    }
   ],
   "source": [
    "\n",
    "token_words = ['123', '123', 'def']\n",
    "\n",
    "all([w.isdigit() for w in token_words])"
   ]
  },
  {
   "cell_type": "code",
   "execution_count": null,
   "id": "ec911bf8-e9df-45c3-b0bc-196ea67905fd",
   "metadata": {},
   "outputs": [],
   "source": [
    "token_words"
   ]
  }
 ],
 "metadata": {
  "kernelspec": {
   "display_name": "Python 3",
   "language": "python",
   "name": "python3"
  },
  "language_info": {
   "codemirror_mode": {
    "name": "ipython",
    "version": 3
   },
   "file_extension": ".py",
   "mimetype": "text/x-python",
   "name": "python",
   "nbconvert_exporter": "python",
   "pygments_lexer": "ipython3",
   "version": "3.8.8"
  }
 },
 "nbformat": 4,
 "nbformat_minor": 5
}
