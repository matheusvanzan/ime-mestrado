{
 "cells": [
  {
   "cell_type": "code",
   "execution_count": 1,
   "id": "98a6bd87-ac49-44cb-8372-bbf6ab6111bc",
   "metadata": {},
   "outputs": [
    {
     "name": "stdout",
     "output_type": "stream",
     "text": [
      "Start process 1, w: 25sStart process 3, w: 31s\n",
      "Start process 2, w: 23s\n",
      "\n",
      "- Stop process 2\n",
      "Start process 4, w: 22s\n",
      "- Stop process 1\n",
      "Start process 5, w: 27s\n",
      "- Stop process 3\n",
      "Start process 6, w: 2s\n",
      "- Stop process 6\n",
      "Start process 7, w: 36s\n",
      "- Stop process 4\n",
      "Start process 8, w: 43s\n",
      "- Stop process 5\n",
      "Start process 9, w: 20s\n",
      "- Stop process 7\n",
      "- Stop process 9\n",
      "- Stop process 8\n",
      "[1, 2, 3, 4, 5, 6, 7, 8, 9]\n"
     ]
    }
   ],
   "source": [
    "import os\n",
    "import random\n",
    "from time import sleep\n",
    "from concurrent.futures import ProcessPoolExecutor\n",
    "\n",
    "def single_process(value):\n",
    "    w = random.randint(1, 50)\n",
    "    print(f'Start process {value}, w: {w}s')\n",
    "    sleep(w)\n",
    "    print(f'- Stop process {value}')\n",
    "    return value\n",
    "\n",
    "values = list(range(1, 10))\n",
    "    \n",
    "# Multiprocessor\n",
    "returns = []\n",
    "with ProcessPoolExecutor(max_workers = 3) as executor:\n",
    "    for i, value in enumerate(executor.map( \\\n",
    "            single_process, values)):\n",
    "            \n",
    "            returns.append(value)\n",
    "            \n",
    "print(returns)"
   ]
  },
  {
   "cell_type": "code",
   "execution_count": null,
   "id": "a9cb5019-a555-4b88-9c18-8124aa11b703",
   "metadata": {},
   "outputs": [],
   "source": []
  },
  {
   "cell_type": "code",
   "execution_count": null,
   "id": "81abf683-9af0-4cbb-af66-bf4b6f3b7adb",
   "metadata": {},
   "outputs": [],
   "source": []
  }
 ],
 "metadata": {
  "kernelspec": {
   "display_name": "Python 3",
   "language": "python",
   "name": "python3"
  },
  "language_info": {
   "codemirror_mode": {
    "name": "ipython",
    "version": 3
   },
   "file_extension": ".py",
   "mimetype": "text/x-python",
   "name": "python",
   "nbconvert_exporter": "python",
   "pygments_lexer": "ipython3",
   "version": "3.8.8"
  }
 },
 "nbformat": 4,
 "nbformat_minor": 5
}
