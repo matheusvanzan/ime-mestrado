{
 "cells": [
  {
   "cell_type": "code",
   "execution_count": 1,
   "id": "338255ae-35a0-4975-ac16-2912f3a2129e",
   "metadata": {},
   "outputs": [
    {
     "ename": "ModuleNotFoundError",
     "evalue": "No module named 'matplotlib'",
     "output_type": "error",
     "traceback": [
      "\u001b[1;31m---------------------------------------------------------------------------\u001b[0m",
      "\u001b[1;31mModuleNotFoundError\u001b[0m                       Traceback (most recent call last)",
      "\u001b[1;32mc:\\Users\\vanza\\Documents\\Codes\\ime\\am-malware\\tfidf\\project\\code\\notebooks\\size.ipynb Cell 1\u001b[0m line \u001b[0;36m1\n\u001b[0;32m      <a href='vscode-notebook-cell:/c%3A/Users/vanza/Documents/Codes/ime/am-malware/tfidf/project/code/notebooks/size.ipynb#W0sZmlsZQ%3D%3D?line=8'>9</a>\u001b[0m \u001b[39mfrom\u001b[39;00m \u001b[39mkeras\u001b[39;00m\u001b[39m.\u001b[39;00m\u001b[39mmodels\u001b[39;00m \u001b[39mimport\u001b[39;00m Sequential\n\u001b[0;32m     <a href='vscode-notebook-cell:/c%3A/Users/vanza/Documents/Codes/ime/am-malware/tfidf/project/code/notebooks/size.ipynb#W0sZmlsZQ%3D%3D?line=9'>10</a>\u001b[0m \u001b[39mfrom\u001b[39;00m \u001b[39mkeras\u001b[39;00m\u001b[39m.\u001b[39;00m\u001b[39mlayers\u001b[39;00m \u001b[39mimport\u001b[39;00m Dense\n\u001b[1;32m---> <a href='vscode-notebook-cell:/c%3A/Users/vanza/Documents/Codes/ime/am-malware/tfidf/project/code/notebooks/size.ipynb#W0sZmlsZQ%3D%3D?line=11'>12</a>\u001b[0m \u001b[39mfrom\u001b[39;00m \u001b[39mmatplotlib\u001b[39;00m \u001b[39mimport\u001b[39;00m pyplot \u001b[39mas\u001b[39;00m plt\n",
      "\u001b[1;31mModuleNotFoundError\u001b[0m: No module named 'matplotlib'"
     ]
    }
   ],
   "source": [
    "import numpy as np\n",
    "import pandas as pd\n",
    "import collections\n",
    "\n",
    "from sklearn.model_selection import train_test_split\n",
    "from sklearn.model_selection import StratifiedKFold\n",
    "\n",
    "from keras.utils import np_utils \n",
    "from keras.models import Sequential\n",
    "from keras.layers import Dense\n",
    "\n",
    "from matplotlib import pyplot as plt"
   ]
  },
  {
   "cell_type": "code",
   "execution_count": 4,
   "id": "18f61c92-81a8-4c01-afab-3743bb4a755b",
   "metadata": {},
   "outputs": [
    {
     "name": "stdout",
     "output_type": "stream",
     "text": [
      "(10868, 3)\n",
      "(8487, 3)\n",
      "2.92 GB\n"
     ]
    }
   ],
   "source": [
    "df_ = pd.read_csv('/home/jovyan/data/trainLabels.csv')\n",
    "print(df_.shape)\n",
    "df_ = df_[df_['Size'] > 0] # != 0\n",
    "\n",
    "limit = 2\n",
    "df = df_[df_['Size'] < limit*1024**2] # < 1MB\n",
    "m = round(df['Size'].sum()/(1024**3), 2) # in GB\n",
    "print(df.shape)\n",
    "print(m, 'GB')\n",
    "\n",
    "# check filesize columns\n",
    "# x, y1, y2 = [], [], []\n",
    "# for i in range(1, 15):\n",
    "#     # print(f'Files less than {i}MB')\n",
    "\n",
    "#     df = df_[df_['Size'] < i*1024**2] # < 1MB\n",
    "#     m = round(df['Size'].sum()/(1024**2), 2) # in MB\n",
    "\n",
    "#     # print('  ', df_.shape, df.shape)\n",
    "#     # print(df_.Class.value_counts(), df.Class.value_counts())\n",
    "#     x.append(i)\n",
    "#     y1.append(m)\n",
    "#     y2.append(0.5)\n",
    "\n",
    "# plt.plot(x, y1, color ='b')  \n",
    "# plt.plot(x, y2, color ='r')\n",
    "# plt.show()"
   ]
  },
  {
   "cell_type": "code",
   "execution_count": 5,
   "id": "7ab24f33-2de3-490e-9cd9-db1dc778c255",
   "metadata": {},
   "outputs": [
    {
     "ename": "NameError",
     "evalue": "name 'c' is not defined",
     "output_type": "error",
     "traceback": [
      "\u001b[0;31m---------------------------------------------------------------------------\u001b[0m",
      "\u001b[0;31mNameError\u001b[0m                                 Traceback (most recent call last)",
      "\u001b[0;32m<ipython-input-5-53c3aa04a77c>\u001b[0m in \u001b[0;36m<module>\u001b[0;34m\u001b[0m\n\u001b[1;32m      1\u001b[0m \u001b[0;31m# Plot Histogram on x\u001b[0m\u001b[0;34m\u001b[0m\u001b[0;34m\u001b[0m\u001b[0;34m\u001b[0m\u001b[0m\n\u001b[1;32m      2\u001b[0m \u001b[0;31m# x = np.random.normal(size = 1000)\u001b[0m\u001b[0;34m\u001b[0m\u001b[0;34m\u001b[0m\u001b[0;34m\u001b[0m\u001b[0m\n\u001b[0;32m----> 3\u001b[0;31m \u001b[0mplt\u001b[0m\u001b[0;34m.\u001b[0m\u001b[0mhist\u001b[0m\u001b[0;34m(\u001b[0m\u001b[0mc\u001b[0m\u001b[0;34m,\u001b[0m \u001b[0mbins\u001b[0m\u001b[0;34m=\u001b[0m\u001b[0;36m50\u001b[0m\u001b[0;34m)\u001b[0m\u001b[0;34m\u001b[0m\u001b[0;34m\u001b[0m\u001b[0m\n\u001b[0m\u001b[1;32m      4\u001b[0m \u001b[0;31m# plt.xlabel('Índice')\u001b[0m\u001b[0;34m\u001b[0m\u001b[0;34m\u001b[0m\u001b[0;34m\u001b[0m\u001b[0m\n\u001b[1;32m      5\u001b[0m \u001b[0mplt\u001b[0m\u001b[0;34m.\u001b[0m\u001b[0mylabel\u001b[0m\u001b[0;34m(\u001b[0m\u001b[0;34m'Tamanho (MB)'\u001b[0m\u001b[0;34m)\u001b[0m\u001b[0;34m\u001b[0m\u001b[0;34m\u001b[0m\u001b[0m\n",
      "\u001b[0;31mNameError\u001b[0m: name 'c' is not defined"
     ]
    }
   ],
   "source": [
    "# Plot Histogram on x\n",
    "# x = np.random.normal(size = 1000)\n",
    "plt.hist(c, bins=50)\n",
    "# plt.xlabel('Índice')\n",
    "plt.ylabel('Tamanho (MB)')\n",
    "plt.title('Frequência de tamanho dos arquivos')\n",
    "plt.gca()\n",
    "plt.savefig('/home/jovyan/code/img/hist_arquivos.png', dpi=300, facecolor=(1.0, 1.0, 1.0, 1.0))"
   ]
  },
  {
   "cell_type": "code",
   "execution_count": 9,
   "id": "6924217a-8aa9-4bcb-9ccb-ec14dedb4fd0",
   "metadata": {},
   "outputs": [
    {
     "data": {
      "image/png": "[encoded data removed]",
      "text/plain": [
       "<Figure size 432x288 with 1 Axes>"
      ]
     },
     "metadata": {
      "needs_background": "light"
     },
     "output_type": "display_data"
    }
   ],
   "source": [
    "c = df_.iloc[:, 2].values/1024**2\n",
    "n = len(c)\n",
    "\n",
    "x = list(range(n))\n",
    "y = sorted(c)\n",
    "y2 = [0.5]*n\n",
    "y3 = [0.2]*n\n",
    "\n",
    "plt.plot(x, y, color ='b')\n",
    "plt.plot(x, y2, color ='r')\n",
    "plt.plot(x, y3, color ='r')\n",
    "plt.yscale('log')\n",
    "plt.xlabel('Índice')\n",
    "plt.ylabel('Tamanho (MB)')\n",
    "plt.title('Tamanho de arquivos (log)')\n",
    "plt.gca()\n",
    "plt.savefig('/home/jovyan/data/img/ia_tam_arquivos_log.png', dpi=300, facecolor=(1.0, 1.0, 1.0, 1.0))\n"
   ]
  },
  {
   "cell_type": "code",
   "execution_count": null,
   "id": "880ebd22-f50e-49c3-b3c0-c66cb59326c2",
   "metadata": {},
   "outputs": [],
   "source": []
  }
 ],
 "metadata": {
  "kernelspec": {
   "display_name": "Python 3",
   "language": "python",
   "name": "python3"
  },
  "language_info": {
   "codemirror_mode": {
    "name": "ipython",
    "version": 3
   },
   "file_extension": ".py",
   "mimetype": "text/x-python",
   "name": "python",
   "nbconvert_exporter": "python",
   "pygments_lexer": "ipython3",
   "version": "3.11.1"
  }
 },
 "nbformat": 4,
 "nbformat_minor": 5
}
