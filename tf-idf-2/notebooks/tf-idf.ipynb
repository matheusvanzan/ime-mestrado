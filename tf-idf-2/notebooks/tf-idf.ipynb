{
 "cells": [
  {
   "cell_type": "code",
   "execution_count": 2,
   "id": "d9deacb1-adf5-444e-820d-dd2f9efaed0a",
   "metadata": {},
   "outputs": [],
   "source": [
    "import math\n",
    "import pandas as pd\n",
    "from datetime import datetime\n",
    "\n",
    "from sklearn.feature_extraction.text import CountVectorizer\n",
    "from sklearn.feature_extraction.text import TfidfVectorizer\n",
    "\n",
    "corpus = [\n",
    "    'this is a simple text',\n",
    "    'another text',\n",
    "    'this is also another text'\n",
    "]\n",
    "\n",
    "index = [\n",
    "    'doc1',\n",
    "    'doc2',\n",
    "    'doc3'\n",
    "]"
   ]
  },
  {
   "cell_type": "code",
   "execution_count": 3,
   "id": "9745f2ce-d9e5-4145-b99e-b4e28695b6bf",
   "metadata": {},
   "outputs": [
    {
     "data": {
      "text/html": [
       "<div>\n",
       "<style scoped>\n",
       "    .dataframe tbody tr th:only-of-type {\n",
       "        vertical-align: middle;\n",
       "    }\n",
       "\n",
       "    .dataframe tbody tr th {\n",
       "        vertical-align: top;\n",
       "    }\n",
       "\n",
       "    .dataframe thead th {\n",
       "        text-align: right;\n",
       "    }\n",
       "</style>\n",
       "<table border=\"1\" class=\"dataframe\">\n",
       "  <thead>\n",
       "    <tr style=\"text-align: right;\">\n",
       "      <th></th>\n",
       "      <th>another</th>\n",
       "      <th>is</th>\n",
       "      <th>text</th>\n",
       "    </tr>\n",
       "  </thead>\n",
       "  <tbody>\n",
       "    <tr>\n",
       "      <th>doc1</th>\n",
       "      <td>0.000000</td>\n",
       "      <td>0.789807</td>\n",
       "      <td>0.613356</td>\n",
       "    </tr>\n",
       "    <tr>\n",
       "      <th>doc2</th>\n",
       "      <td>0.789807</td>\n",
       "      <td>0.000000</td>\n",
       "      <td>0.613356</td>\n",
       "    </tr>\n",
       "    <tr>\n",
       "      <th>doc3</th>\n",
       "      <td>0.619805</td>\n",
       "      <td>0.619805</td>\n",
       "      <td>0.481334</td>\n",
       "    </tr>\n",
       "  </tbody>\n",
       "</table>\n",
       "</div>"
      ],
      "text/plain": [
       "       another        is      text\n",
       "doc1  0.000000  0.789807  0.613356\n",
       "doc2  0.789807  0.000000  0.613356\n",
       "doc3  0.619805  0.619805  0.481334"
      ]
     },
     "execution_count": 3,
     "metadata": {},
     "output_type": "execute_result"
    }
   ],
   "source": [
    "# vect = CountVectorizer(\n",
    "vect = TfidfVectorizer(\n",
    "    max_features = 3,\n",
    "    ngram_range = (1, 1)\n",
    ")\n",
    "\n",
    "vect_X = vect.fit_transform(corpus)\n",
    "features = vect.get_feature_names_out()\n",
    "df = pd.DataFrame(\n",
    "    data = vect_X.toarray(),\n",
    "    index = index,\n",
    "    columns = features\n",
    ")\n",
    "\n",
    "df"
   ]
  },
  {
   "cell_type": "code",
   "execution_count": 4,
   "id": "7de16cb0-1111-4972-8596-4c3c2eacef4d",
   "metadata": {},
   "outputs": [
    {
     "data": {
      "text/html": [
       "<div>\n",
       "<style scoped>\n",
       "    .dataframe tbody tr th:only-of-type {\n",
       "        vertical-align: middle;\n",
       "    }\n",
       "\n",
       "    .dataframe tbody tr th {\n",
       "        vertical-align: top;\n",
       "    }\n",
       "\n",
       "    .dataframe thead th {\n",
       "        text-align: right;\n",
       "    }\n",
       "</style>\n",
       "<table border=\"1\" class=\"dataframe\">\n",
       "  <thead>\n",
       "    <tr style=\"text-align: right;\">\n",
       "      <th></th>\n",
       "      <th>also</th>\n",
       "      <th>another</th>\n",
       "      <th>is</th>\n",
       "      <th>simple</th>\n",
       "      <th>text</th>\n",
       "      <th>this</th>\n",
       "    </tr>\n",
       "  </thead>\n",
       "  <tbody>\n",
       "    <tr>\n",
       "      <th>doc1</th>\n",
       "      <td>0.000000</td>\n",
       "      <td>0.000000</td>\n",
       "      <td>0.480458</td>\n",
       "      <td>0.631745</td>\n",
       "      <td>0.373119</td>\n",
       "      <td>0.480458</td>\n",
       "    </tr>\n",
       "    <tr>\n",
       "      <th>doc2</th>\n",
       "      <td>0.000000</td>\n",
       "      <td>0.789807</td>\n",
       "      <td>0.000000</td>\n",
       "      <td>0.000000</td>\n",
       "      <td>0.613356</td>\n",
       "      <td>0.000000</td>\n",
       "    </tr>\n",
       "    <tr>\n",
       "      <th>doc3</th>\n",
       "      <td>0.569431</td>\n",
       "      <td>0.433067</td>\n",
       "      <td>0.433067</td>\n",
       "      <td>0.000000</td>\n",
       "      <td>0.336315</td>\n",
       "      <td>0.433067</td>\n",
       "    </tr>\n",
       "  </tbody>\n",
       "</table>\n",
       "</div>"
      ],
      "text/plain": [
       "          also   another        is    simple      text      this\n",
       "doc1  0.000000  0.000000  0.480458  0.631745  0.373119  0.480458\n",
       "doc2  0.000000  0.789807  0.000000  0.000000  0.613356  0.000000\n",
       "doc3  0.569431  0.433067  0.433067  0.000000  0.336315  0.433067"
      ]
     },
     "execution_count": 4,
     "metadata": {},
     "output_type": "execute_result"
    }
   ],
   "source": [
    "# vect = CountVectorizer(\n",
    "vect = TfidfVectorizer(\n",
    "#     max_features = 3,\n",
    "    ngram_range = (1, 1)\n",
    ")\n",
    "\n",
    "vect_X = vect.fit_transform(corpus)\n",
    "features = vect.get_feature_names_out()\n",
    "df = pd.DataFrame(\n",
    "    data = vect_X.toarray(),\n",
    "    index = index,\n",
    "    columns = features\n",
    ")\n",
    "\n",
    "df"
   ]
  },
  {
   "cell_type": "code",
   "execution_count": 7,
   "id": "59d6136d-645b-49f7-a990-4e0106dcdc42",
   "metadata": {},
   "outputs": [
    {
     "name": "stdout",
     "output_type": "stream",
     "text": [
      "counts [Counter({'this': 1, 'is': 1, 'a': 1, 'simple': 1, 'text': 1}), Counter({'another': 1, 'text': 1}), Counter({'this': 1, 'is': 1, 'also': 1, 'another': 1, 'text': 1})]\n",
      "vocab {'this': 2, 'is': 2, 'a': 1, 'simple': 1, 'text': 3, 'another': 2, 'also': 1}\n",
      "tf_list [('doc1', Counter({'text': 0.4772370486619896, 'simple': 0.36644077300103445, 'a': 0.29085872576177285, 'is': 0.23809523809523808, 'this': 0.2})), ('doc2', Counter({'text': 0.6666666666666666, 'another': 0.5})), ('doc3', Counter({'text': 0.4772370486619896, 'another': 0.36644077300103445, 'also': 0.29085872576177285, 'is': 0.23809523809523808, 'this': 0.2}))]\n",
      "doc1\n",
      "   this 0.0837092681258449\n",
      "   is 0.11496181162994945\n",
      "   a 0.5621604952328197\n",
      "   simple 0.6190622027726087\n",
      "   text 0.003879122890868114\n",
      "doc2\n",
      "   another 0.3068528194400547\n",
      "   text 0.12453126264609993\n",
      "doc3\n",
      "   this 0.0837092681258449\n",
      "   is 0.11496181162994945\n",
      "   also 0.5621604952328197\n",
      "   another 0.2135970946644442\n",
      "   text 0.003879122890868114\n"
     ]
    }
   ],
   "source": [
    "from collections import Counter\n",
    "\n",
    "counts = [Counter(c.split(' ')) for c in corpus]\n",
    "sums = [sum(c.values()) for c in counts]\n",
    "\n",
    "\n",
    "            \n",
    "print('counts', counts)\n",
    "\n",
    "vocab = {}\n",
    "for c in counts:\n",
    "    for key, value in c.items():\n",
    "        if key not in vocab:\n",
    "            vocab.update({key:0})\n",
    "        vocab[key] += 1\n",
    "print('vocab', vocab)\n",
    "\n",
    "tf_list = []\n",
    "for doc, c in zip(index, counts):\n",
    "    for key, value in c.items():\n",
    "        c[key] = c[key]/sum(c.values())\n",
    "    tf_list.append((doc, c))\n",
    "print('tf_list', tf_list)\n",
    "\n",
    "for doc, tf in tf_list:\n",
    "    print(doc)\n",
    "    for key, value in tf.items():\n",
    "        \n",
    "        idf = math.log( (1+value) / (1+vocab[key]) ) + 1\n",
    "        print('  ', key, idf)"
   ]
  },
  {
   "cell_type": "code",
   "execution_count": 8,
   "id": "894d7e48-3040-4278-95f2-d85a91183780",
   "metadata": {},
   "outputs": [
    {
     "name": "stdout",
     "output_type": "stream",
     "text": [
      "Counter({'this': 1, 'is': 1, 'a': 1, 'simple': 1, 'text': 1})\n"
     ]
    },
    {
     "data": {
      "text/plain": [
       "{'this': 0.5, 'is': 0.5, 'a': 0.5, 'simple': 0.5, 'text': 0.5}"
      ]
     },
     "execution_count": 8,
     "metadata": {},
     "output_type": "execute_result"
    }
   ],
   "source": [
    "c = Counter(corpus[0].split(' '))\n",
    "print(c)\n",
    "d = {key: value/2 for (key, value) in c.items()}\n",
    "d"
   ]
  },
  {
   "cell_type": "code",
   "execution_count": null,
   "id": "f10abb8a-59fb-4bb9-b561-67b55606c201",
   "metadata": {},
   "outputs": [],
   "source": []
  }
 ],
 "metadata": {
  "kernelspec": {
   "display_name": "Python 3",
   "language": "python",
   "name": "python3"
  },
  "language_info": {
   "codemirror_mode": {
    "name": "ipython",
    "version": 3
   },
   "file_extension": ".py",
   "mimetype": "text/x-python",
   "name": "python",
   "nbconvert_exporter": "python",
   "pygments_lexer": "ipython3",
   "version": "3.11.1"
  }
 },
 "nbformat": 4,
 "nbformat_minor": 5
}
