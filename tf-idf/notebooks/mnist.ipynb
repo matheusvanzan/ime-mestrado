{
 "cells": [
  {
   "cell_type": "code",
   "execution_count": 4,
   "id": "dd4b5f60-90bd-4d56-9eb7-ec7bfdc3eb0e",
   "metadata": {},
   "outputs": [],
   "source": [
    "import numpy as np\n",
    "from tensorflow import keras\n",
    "from tensorflow.keras import layers"
   ]
  },
  {
   "cell_type": "code",
   "execution_count": 5,
   "id": "1dcbf9cc-3257-4f8a-8590-77408fe8e7d4",
   "metadata": {},
   "outputs": [],
   "source": [
    "# Model / data parameters\n",
    "num_classes = 10\n",
    "input_shape = (28, 28, 1)\n",
    "\n",
    "# the data, split between train and test sets\n",
    "(x_train, y_train), (x_test, y_test) = keras.datasets.mnist.load_data()"
   ]
  },
  {
   "cell_type": "code",
   "execution_count": 6,
   "id": "a752b7ca-69e3-4ff7-bff5-17c329b9b6a6",
   "metadata": {},
   "outputs": [
    {
     "name": "stdout",
     "output_type": "stream",
     "text": [
      "x_train shape: (60000, 28, 28, 1)\n",
      "60000 train samples\n",
      "10000 test samples\n"
     ]
    }
   ],
   "source": [
    "# Scale images to the [0, 1] range\n",
    "x_train = x_train.astype(\"float32\") / 255\n",
    "x_test = x_test.astype(\"float32\") / 255\n",
    "\n",
    "# Make sure images have shape (28, 28, 1)\n",
    "x_train = np.expand_dims(x_train, -1)\n",
    "x_test = np.expand_dims(x_test, -1)\n",
    "\n",
    "print(\"x_train shape:\", x_train.shape)\n",
    "print(x_train.shape[0], \"train samples\")\n",
    "print(x_test.shape[0], \"test samples\")\n",
    "\n",
    "\n",
    "# convert class vectors to binary class matrices\n",
    "y_train = keras.utils.to_categorical(y_train, num_classes)\n",
    "y_test = keras.utils.to_categorical(y_test, num_classes)\n"
   ]
  },
  {
   "cell_type": "code",
   "execution_count": 14,
   "id": "032d6d39-d4a0-4e90-8a45-def27d38e2ff",
   "metadata": {},
   "outputs": [
    {
     "name": "stdout",
     "output_type": "stream",
     "text": [
      "Model: \"sequential_2\"\n",
      "_________________________________________________________________\n",
      " Layer (type)                Output Shape              Param #   \n",
      "=================================================================\n",
      " conv2d_2 (Conv2D)           (None, 26, 26, 32)        320       \n",
      "                                                                 \n",
      " max_pooling2d_2 (MaxPooling  (None, 13, 13, 32)       0         \n",
      " 2D)                                                             \n",
      "                                                                 \n",
      " conv2d_3 (Conv2D)           (None, 11, 11, 64)        18496     \n",
      "                                                                 \n",
      " max_pooling2d_3 (MaxPooling  (None, 5, 5, 64)         0         \n",
      " 2D)                                                             \n",
      "                                                                 \n",
      " flatten_2 (Flatten)         (None, 1600)              0         \n",
      "                                                                 \n",
      " dropout_1 (Dropout)         (None, 1600)              0         \n",
      "                                                                 \n",
      " dense_3 (Dense)             (None, 10)                16010     \n",
      "                                                                 \n",
      "=================================================================\n",
      "Total params: 34,826\n",
      "Trainable params: 34,826\n",
      "Non-trainable params: 0\n",
      "_________________________________________________________________\n"
     ]
    }
   ],
   "source": [
    "model = keras.Sequential([\n",
    "    keras.Input(shape=input_shape),\n",
    "#     layers.Conv2D(32, kernel_size=(3, 3), activation=\"relu\"),\n",
    "#     layers.MaxPooling2D(pool_size=(2, 2)),\n",
    "    layers.Conv2D(64, kernel_size=(3, 3), activation=\"relu\"),\n",
    "    layers.MaxPooling2D(pool_size=(2, 2)),\n",
    "    layers.Flatten(),\n",
    "    layers.Dropout(0.5),\n",
    "    layers.Dense(num_classes, activation=\"softmax\"),\n",
    "])\n",
    "\n",
    "model.summary()"
   ]
  },
  {
   "cell_type": "code",
   "execution_count": 15,
   "id": "b82cada5-ab88-462a-a3f7-f05eafac58a6",
   "metadata": {},
   "outputs": [
    {
     "name": "stdout",
     "output_type": "stream",
     "text": [
      "Epoch 1/15\n",
      "422/422 [==============================] - 17s 40ms/step - loss: 0.3556 - accuracy: 0.8943 - val_loss: 0.0896 - val_accuracy: 0.9755\n",
      "Epoch 2/15\n",
      "422/422 [==============================] - 19s 45ms/step - loss: 0.1117 - accuracy: 0.9659 - val_loss: 0.0601 - val_accuracy: 0.9835\n",
      "Epoch 3/15\n",
      "422/422 [==============================] - 42s 99ms/step - loss: 0.0854 - accuracy: 0.9729 - val_loss: 0.0473 - val_accuracy: 0.9868\n",
      "Epoch 4/15\n",
      "422/422 [==============================] - 51s 120ms/step - loss: 0.0730 - accuracy: 0.9772 - val_loss: 0.0497 - val_accuracy: 0.9852\n",
      "Epoch 5/15\n",
      "422/422 [==============================] - 57s 135ms/step - loss: 0.0648 - accuracy: 0.9797 - val_loss: 0.0438 - val_accuracy: 0.9880\n",
      "Epoch 6/15\n",
      "422/422 [==============================] - 62s 147ms/step - loss: 0.0567 - accuracy: 0.9820 - val_loss: 0.0418 - val_accuracy: 0.9885\n",
      "Epoch 7/15\n",
      "422/422 [==============================] - 56s 132ms/step - loss: 0.0530 - accuracy: 0.9830 - val_loss: 0.0335 - val_accuracy: 0.9908\n",
      "Epoch 8/15\n",
      "422/422 [==============================] - 31s 72ms/step - loss: 0.0484 - accuracy: 0.9844 - val_loss: 0.0357 - val_accuracy: 0.9898\n",
      "Epoch 9/15\n",
      "422/422 [==============================] - 29s 68ms/step - loss: 0.0461 - accuracy: 0.9854 - val_loss: 0.0311 - val_accuracy: 0.9915\n",
      "Epoch 10/15\n",
      "422/422 [==============================] - 27s 64ms/step - loss: 0.0441 - accuracy: 0.9855 - val_loss: 0.0314 - val_accuracy: 0.9915\n",
      "Epoch 11/15\n",
      "422/422 [==============================] - 27s 65ms/step - loss: 0.0405 - accuracy: 0.9870 - val_loss: 0.0341 - val_accuracy: 0.9917\n",
      "Epoch 12/15\n",
      "422/422 [==============================] - 30s 70ms/step - loss: 0.0398 - accuracy: 0.9876 - val_loss: 0.0318 - val_accuracy: 0.9910\n",
      "Epoch 13/15\n",
      "422/422 [==============================] - 31s 74ms/step - loss: 0.0369 - accuracy: 0.9876 - val_loss: 0.0304 - val_accuracy: 0.9917\n",
      "Epoch 14/15\n",
      "422/422 [==============================] - 30s 72ms/step - loss: 0.0357 - accuracy: 0.9891 - val_loss: 0.0296 - val_accuracy: 0.9918\n",
      "Epoch 15/15\n",
      "422/422 [==============================] - 32s 75ms/step - loss: 0.0340 - accuracy: 0.9888 - val_loss: 0.0287 - val_accuracy: 0.9917\n"
     ]
    },
    {
     "data": {
      "text/plain": [
       "<keras.callbacks.History at 0x7f9332b89700>"
      ]
     },
     "execution_count": 15,
     "metadata": {},
     "output_type": "execute_result"
    }
   ],
   "source": [
    "batch_size = 128\n",
    "epochs = 15\n",
    "\n",
    "model.compile(loss=\"categorical_crossentropy\", optimizer=\"adam\", metrics=[\"accuracy\"])\n",
    "\n",
    "model.fit(x_train, y_train, batch_size=batch_size, epochs=epochs, validation_split=0.1)"
   ]
  },
  {
   "cell_type": "code",
   "execution_count": 16,
   "id": "6181cc50-e2ab-4195-8eea-64def5ff862c",
   "metadata": {},
   "outputs": [
    {
     "name": "stdout",
     "output_type": "stream",
     "text": [
      "Test loss: 0.024779893457889557\n",
      "Test accuracy: 0.9908999800682068\n"
     ]
    }
   ],
   "source": [
    "score = model.evaluate(x_test, y_test, verbose=0)\n",
    "print(\"Test loss:\", score[0])\n",
    "print(\"Test accuracy:\", score[1])"
   ]
  },
  {
   "cell_type": "code",
   "execution_count": null,
   "id": "77b83d4e-9a00-4012-aaa4-5f6fed6c39af",
   "metadata": {},
   "outputs": [],
   "source": []
  }
 ],
 "metadata": {
  "kernelspec": {
   "display_name": "Python 3",
   "language": "python",
   "name": "python3"
  },
  "language_info": {
   "codemirror_mode": {
    "name": "ipython",
    "version": 3
   },
   "file_extension": ".py",
   "mimetype": "text/x-python",
   "name": "python",
   "nbconvert_exporter": "python",
   "pygments_lexer": "ipython3",
   "version": "3.8.8"
  }
 },
 "nbformat": 4,
 "nbformat_minor": 5
}
